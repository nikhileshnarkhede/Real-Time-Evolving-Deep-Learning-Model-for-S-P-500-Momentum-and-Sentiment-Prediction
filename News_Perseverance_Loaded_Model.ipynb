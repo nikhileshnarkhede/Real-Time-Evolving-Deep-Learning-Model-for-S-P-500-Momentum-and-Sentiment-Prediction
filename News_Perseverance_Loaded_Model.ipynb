{
  "nbformat": 4,
  "nbformat_minor": 0,
  "metadata": {
    "colab": {
      "provenance": []
    },
    "kernelspec": {
      "name": "python3",
      "display_name": "Python 3"
    },
    "language_info": {
      "name": "python"
    }
  },
  "cells": [
    {
      "cell_type": "code",
      "source": [
        "import tensorflow as tf\n",
        "from tensorflow import keras\n",
        "from tensorflow.keras.preprocessing.text import Tokenizer\n",
        "from tensorflow.keras.preprocessing import sequence\n",
        "from tensorflow.keras.layers import LSTM,Dense,Input,Embedding,Dropout\n",
        "from tensorflow.keras.models import Model\n",
        "from sklearn.model_selection import train_test_split\n",
        "import pandas as pd\n",
        "import numpy as np\n",
        "import pickle\n",
        "from os.path import split\n",
        "from google.colab import drive\n",
        "drive.mount('/content/drive')"
      ],
      "metadata": {
        "id": "FwtvRpYtVhTf",
        "colab": {
          "base_uri": "https://localhost:8080/"
        },
        "outputId": "b4c8d471-27be-4f59-8cb4-b20dc4fae89b"
      },
      "execution_count": null,
      "outputs": [
        {
          "output_type": "stream",
          "name": "stdout",
          "text": [
            "Drive already mounted at /content/drive; to attempt to forcibly remount, call drive.mount(\"/content/drive\", force_remount=True).\n"
          ]
        }
      ]
    },
    {
      "cell_type": "code",
      "source": [
        "data = pd.read_csv('/content/drive/MyDrive/model/news_data_Target.csv')\n",
        "data = data[['Target','content_title','content_summary']].dropna()\n",
        "data = pd.concat([data,pd.get_dummies(data['Target'])],axis=1).drop('Target',axis=1)\n",
        "data['artical'] = data['content_title'] + ' ' + data['content_summary']\n",
        "labels =  np.array(data['Bullish'],dtype=np.int32) # 1=positive, 0=negative\n",
        "imdb_train, imdb_test = train_test_split(data, test_size=0.20, random_state=42)\n",
        "x_train = imdb_train['artical']\n",
        "y_train = imdb_train['Bullish']\n",
        "x_test = imdb_test['artical']\n",
        "y_test = imdb_test['Bullish']"
      ],
      "metadata": {
        "id": "H1ukl4hQWJi0"
      },
      "execution_count": null,
      "outputs": []
    },
    {
      "cell_type": "code",
      "source": [
        "#Load the tokenizer\n",
        "with open(f'/content/drive/MyDrive/model/tokenizer.pickle', 'rb') as handle:\n",
        "    tk = pickle.load(handle)\n"
      ],
      "metadata": {
        "id": "5QOWJrXEhq7b"
      },
      "execution_count": null,
      "outputs": []
    },
    {
      "cell_type": "code",
      "source": [
        "vocab_size = len(tk.word_index)\n",
        "max_len = 300"
      ],
      "metadata": {
        "id": "2YtbvvosV2pl"
      },
      "execution_count": null,
      "outputs": []
    },
    {
      "cell_type": "code",
      "source": [
        "seq_train = tk.texts_to_sequences(x_train)\n",
        "seq_test = tk.texts_to_sequences(x_test)"
      ],
      "metadata": {
        "id": "w13H6mrLV3Nd"
      },
      "execution_count": null,
      "outputs": []
    },
    {
      "cell_type": "code",
      "source": [
        "seq_train_matrix = sequence.pad_sequences(seq_train,maxlen = max_len)\n",
        "seq_test_matrix = sequence.pad_sequences(seq_test,maxlen = max_len)"
      ],
      "metadata": {
        "id": "YedUn2agV5TC"
      },
      "execution_count": null,
      "outputs": []
    },
    {
      "cell_type": "code",
      "source": [
        "embedding_matrix = np.load(f'/content/drive/MyDrive/model/embedding_matrix.npy')"
      ],
      "metadata": {
        "id": "WmwtEp3yWAKX"
      },
      "execution_count": null,
      "outputs": []
    },
    {
      "cell_type": "code",
      "source": [
        "model_path = f'/content/drive/MyDrive/model/model.weights.h5' # Changed the path to load weights\n",
        "\n",
        "try:\n",
        "  # Load the model architecture (you'll need the .json file for this)\n",
        "  # If you have the .json file in a different location, update the path accordingly\n",
        "  json_model_path = f'/content/drive/MyDrive/model/model.json' # Assumed the .json is here\n",
        "  with open(json_model_path, 'r') as json_file:\n",
        "    loaded_model_json = json_file.read()\n",
        "\n",
        "  model = keras.models.model_from_json(loaded_model_json)\n",
        "\n",
        "  # Now load the weights into the model\n",
        "  model.load_weights(model_path)\n",
        "  print(\"Model weights loaded successfully.\")\n",
        "  # Compile the model (necessary for prediction)\n",
        "  model.compile(optimizer='adam', # Replace with your actual optimizer and loss function\n",
        "                loss='mse', # Replace with your actual loss function\n",
        "                metrics=['accuracy']) # Replace with your actual metrics\n",
        "\n",
        "except OSError as e:\n",
        "  print(f\"Error loading model: {e}\")\n",
        "except FileNotFoundError as e:\n",
        "    print(f\"File not found: {e}\")\n",
        "except Exception as e:\n",
        "  print(f\"An unexpected error occurred: {e}\")"
      ],
      "metadata": {
        "colab": {
          "base_uri": "https://localhost:8080/"
        },
        "id": "nW3DWHj5YMgD",
        "outputId": "a7bcb846-ed2d-4496-c405-3021fb26dd67"
      },
      "execution_count": null,
      "outputs": [
        {
          "output_type": "stream",
          "name": "stdout",
          "text": [
            "Model weights loaded successfully.\n"
          ]
        }
      ]
    },
    {
      "cell_type": "code",
      "source": [
        "imdb_test['content_title'].reset_index(drop=True, inplace=True)\n",
        "imdb_test['content_summary'].reset_index(drop=True, inplace=True)\n",
        "for i in range(20):\n",
        "  print(\"Title : \",imdb_test['content_title'][i])\n",
        "  print(\"Summary :\",imdb_test['content_summary'][i])\n",
        "  if(model.predict(seq_test_matrix[i].reshape(1,-1)) > 0.5):\n",
        "    print('Bullish\\n')\n",
        "  else:\n",
        "    print('Bearish\\n')"
      ],
      "metadata": {
        "colab": {
          "base_uri": "https://localhost:8080/"
        },
        "id": "Zq78HcSgemzm",
        "outputId": "895da4b7-e737-4235-e85d-7a7f27a939c6"
      },
      "execution_count": null,
      "outputs": [
        {
          "output_type": "stream",
          "name": "stdout",
          "text": [
            "Title :  Better Monthly Dividend Stock: Realty Income vs. Agree Realty\n",
            "Summary : At the core, Agree Realty (NYSE: ADC) and Realty Income (NYSE: O) are very similar real estate investment trusts (REITs).  Here's why some investors will like Agree, while others will favor Realty Income.  It all boils down to the growth these two monthly dividend payers can offer to shareholders.\n",
            "\u001b[1m1/1\u001b[0m \u001b[32m━━━━━━━━━━━━━━━━━━━━\u001b[0m\u001b[37m\u001b[0m \u001b[1m0s\u001b[0m 363ms/step\n",
            "Bearish\n",
            "\n",
            "Title :  WEC Energy Group Inc (WEC) Q4 2024 Earnings Call Highlights: Record Capital Plan and Dividend ...\n",
            "Summary : WEC Energy Group Inc (WEC) reports robust earnings growth and unveils a historic $28 billion capital plan, while navigating weather impacts and regulatory hurdles.\n",
            "\u001b[1m1/1\u001b[0m \u001b[32m━━━━━━━━━━━━━━━━━━━━\u001b[0m\u001b[37m\u001b[0m \u001b[1m0s\u001b[0m 81ms/step\n",
            "Bearish\n",
            "\n",
            "Title :  Here's Why Rockwell Automation Stock Surged This Week\n",
            "Summary : Shares in Rockwell Automation (NYSE: ROK) rose by 11.3% in the week to Friday morning.  Investors usually follow orders growth at Rockwell because it indicates the industry's willingness to invest and signals the direction of its sales growth.  CEO Blake Moret declared in the earnings release, \"Q1 margins and EPS came in well above our expectations this quarter, reflecting some early benefits of Rockwell's renewed focus on operational excellence and cost discipline.\"\n",
            "\u001b[1m1/1\u001b[0m \u001b[32m━━━━━━━━━━━━━━━━━━━━\u001b[0m\u001b[37m\u001b[0m \u001b[1m0s\u001b[0m 70ms/step\n",
            "Bearish\n",
            "\n",
            "Title :  Erie Indemnity: Q4 Earnings Snapshot\n",
            "Summary : ERIE, Pa. AP) — Erie Indemnity Co. (ERIE) on Thursday reported net income of $152 million in its fourth quarter. On a per-share basis, the Erie, Pennsylvania-based company said it had profit of $2.91.\n",
            "\u001b[1m1/1\u001b[0m \u001b[32m━━━━━━━━━━━━━━━━━━━━\u001b[0m\u001b[37m\u001b[0m \u001b[1m0s\u001b[0m 100ms/step\n",
            "Bullish\n",
            "\n",
            "Title :  McCormick & Company, Incorporated (NYSE:MKC) is favoured by institutional owners who hold 82% of the company\n",
            "Summary : Key Insights Institutions' substantial holdings in McCormick implies that they have significant influence over the...\n",
            "\u001b[1m1/1\u001b[0m \u001b[32m━━━━━━━━━━━━━━━━━━━━\u001b[0m\u001b[37m\u001b[0m \u001b[1m0s\u001b[0m 80ms/step\n",
            "Bearish\n",
            "\n",
            "Title :  Useless High-Voltage Power Lines Risk Sparking California Fires\n",
            "Summary : (Bloomberg) -- Across drought-prone California, high-voltage power lines that haven’t been needed in years hang unused from steel towers — a fire risk hiding in plain sight.Most Read from BloombergTrump to Halt NY Congestion Pricing by Terminating ApprovalTrump Targets $128 Billion California High-Speed Rail ProjectAirbnb Billionaire Offers Pre-Fab Homes for LA Fire VictimsTrump Asserts Power Over NYC, Proclaims ‘Long Live the King’Sorry, Kids: Disney’s New York Headquarters Is for Grown-UpsOne,\n",
            "\u001b[1m1/1\u001b[0m \u001b[32m━━━━━━━━━━━━━━━━━━━━\u001b[0m\u001b[37m\u001b[0m \u001b[1m0s\u001b[0m 73ms/step\n",
            "Bearish\n",
            "\n",
            "Title :  Is Ecolab (ECL) One of the Best Water Stocks to Buy According to Hedge Funds?\n",
            "Summary : We recently published a list of 10 Best Water Stocks to Buy According to Hedge Funds. In this article, we are going to take a look at where Ecolab Inc. (NYSE:ECL) stands against other best water stocks to buy according to hedge funds. The water business in the USA is a diverse sector that includes […]\n",
            "\u001b[1m1/1\u001b[0m \u001b[32m━━━━━━━━━━━━━━━━━━━━\u001b[0m\u001b[37m\u001b[0m \u001b[1m0s\u001b[0m 79ms/step\n",
            "Bullish\n",
            "\n",
            "Title :  Old Dominion poised to take share when market turns\n",
            "Summary : Old Dominion Freight Line is planning for a good 2025 back half and hasn’t given up on the first half yet. The post Old Dominion poised to take share when market turns appeared first on FreightWaves.\n",
            "\u001b[1m1/1\u001b[0m \u001b[32m━━━━━━━━━━━━━━━━━━━━\u001b[0m\u001b[37m\u001b[0m \u001b[1m0s\u001b[0m 73ms/step\n",
            "Bullish\n",
            "\n",
            "Title :  Stocks to watch this week: Alibaba, Walmart, HSBC, Rio Tinto and Lloyds\n",
            "Summary : Earnings preview of key companies reporting next week and what to look out for.\n",
            "\u001b[1m1/1\u001b[0m \u001b[32m━━━━━━━━━━━━━━━━━━━━\u001b[0m\u001b[37m\u001b[0m \u001b[1m0s\u001b[0m 95ms/step\n",
            "Bullish\n",
            "\n",
            "Title :  Why Centene Corporation (CNC) Went Down on Tuesday\n",
            "Summary : We recently compiled a list of the 10 Firms Fall Amid Disappointing Earnings Performance. In this article, we are going to take a look at where Centene Corporation (NYSE:CNC) stands against the other stocks. Wall Street’s main indices all finished in the green territory on Tuesday, buoyed by news that the US is set to temporarily […]\n",
            "\u001b[1m1/1\u001b[0m \u001b[32m━━━━━━━━━━━━━━━━━━━━\u001b[0m\u001b[37m\u001b[0m \u001b[1m0s\u001b[0m 76ms/step\n",
            "Bearish\n",
            "\n",
            "Title :  Top Research Reports for Novo Nordisk, Coca-Cola & Wells Fargo\n",
            "Summary : Today's Research Daily features new research reports on 16 major stocks, including Novo Nordisk A/S (NVO), The Coca-Cola Company (KO) and Wells Fargo & Company (WFC), as well as a micro-cap stock Star Group, L.P. (SGU).\n",
            "\u001b[1m1/1\u001b[0m \u001b[32m━━━━━━━━━━━━━━━━━━━━\u001b[0m\u001b[37m\u001b[0m \u001b[1m0s\u001b[0m 77ms/step\n",
            "Bearish\n",
            "\n",
            "Title :  Texas Stock Exchange Startup Asks SEC to Clear 2026 Launch\n",
            "Summary : With $160 million in funding from Wall Street heavyweights, the startup’s CEO wants to challenge New York as a financial hub.\n",
            "\u001b[1m1/1\u001b[0m \u001b[32m━━━━━━━━━━━━━━━━━━━━\u001b[0m\u001b[37m\u001b[0m \u001b[1m0s\u001b[0m 74ms/step\n",
            "Bullish\n",
            "\n",
            "Title :  Q3 2025 Microchip Technology Inc Earnings Call\n",
            "Summary : Q3 2025 Microchip Technology Inc Earnings Call\n",
            "\u001b[1m1/1\u001b[0m \u001b[32m━━━━━━━━━━━━━━━━━━━━\u001b[0m\u001b[37m\u001b[0m \u001b[1m0s\u001b[0m 91ms/step\n",
            "Bearish\n",
            "\n",
            "Title :  Consolidated Edison Q4 Earnings Top Estimates, Revenues Rise Y/Y\n",
            "Summary : ED's fourth-quarter earnings beat estimates, and revenues grow 2.6% year over year.\n",
            "\u001b[1m1/1\u001b[0m \u001b[32m━━━━━━━━━━━━━━━━━━━━\u001b[0m\u001b[37m\u001b[0m \u001b[1m0s\u001b[0m 76ms/step\n",
            "Bearish\n",
            "\n",
            "Title :  Seeking Clues to Targa Resources (TRGP) Q4 Earnings? A Peek Into Wall Street Projections for Key Metrics\n",
            "Summary : Beyond analysts' top -and-bottom-line estimates for Targa Resources (TRGP), evaluate projections for some of its key metrics to gain a better insight into how the business might have performed for the quarter ended December 2024.\n",
            "\u001b[1m1/1\u001b[0m \u001b[32m━━━━━━━━━━━━━━━━━━━━\u001b[0m\u001b[37m\u001b[0m \u001b[1m0s\u001b[0m 83ms/step\n",
            "Bearish\n",
            "\n",
            "Title :  Willis Towers Watson (NASDAQ:WTW) Is Paying Out A Larger Dividend Than Last Year\n",
            "Summary : The board of Willis Towers Watson Public Limited Company ( NASDAQ:WTW ) has announced that it will be paying its...\n",
            "\u001b[1m1/1\u001b[0m \u001b[32m━━━━━━━━━━━━━━━━━━━━\u001b[0m\u001b[37m\u001b[0m \u001b[1m0s\u001b[0m 82ms/step\n",
            "Bearish\n",
            "\n",
            "Title :  Q4 Earnings Highs And Lows: Marriott (NASDAQ:MAR) Vs The Rest Of The Travel and Vacation Providers Stocks\n",
            "Summary : As the Q4 earnings season wraps, let’s dig into this quarter’s best and worst performers in the travel and vacation providers industry, including Marriott (NASDAQ:MAR) and its peers.\n",
            "\u001b[1m1/1\u001b[0m \u001b[32m━━━━━━━━━━━━━━━━━━━━\u001b[0m\u001b[37m\u001b[0m \u001b[1m0s\u001b[0m 78ms/step\n",
            "Bullish\n",
            "\n",
            "Title :  Kraft Heinz takes powdered-drinks brand Crystal Light into alcohol\n",
            "Summary : The company is positioning Crystal Light Vodka Refreshers as the “lowest-calorie ready-to-drink cocktail on the market”.\n",
            "\u001b[1m1/1\u001b[0m \u001b[32m━━━━━━━━━━━━━━━━━━━━\u001b[0m\u001b[37m\u001b[0m \u001b[1m0s\u001b[0m 80ms/step\n",
            "Bearish\n",
            "\n",
            "Title :  How General Mills' Accelerate Strategy is Shaping Long-Term Growth\n",
            "Summary : GIS' Accelerate strategy is driving sustainable growth through brand building, innovation, digital transformation and social responsibility.\n",
            "\u001b[1m1/1\u001b[0m \u001b[32m━━━━━━━━━━━━━━━━━━━━\u001b[0m\u001b[37m\u001b[0m \u001b[1m0s\u001b[0m 100ms/step\n",
            "Bullish\n",
            "\n",
            "Title :  AES Rides on Renewable Expansion, Declining Wholesale Prices Ail\n",
            "Summary : AES is projected to gain from expanding renewable generation and decreasing carbon emissions from its portfolio amid the impacts of declining wholesale prices.\n",
            "\u001b[1m1/1\u001b[0m \u001b[32m━━━━━━━━━━━━━━━━━━━━\u001b[0m\u001b[37m\u001b[0m \u001b[1m0s\u001b[0m 96ms/step\n",
            "Bearish\n",
            "\n"
          ]
        }
      ]
    },
    {
      "cell_type": "code",
      "source": [
        "content_title = input(\"Enter the content title: \")\n",
        "content_summary = input(\"Enter the content summary: \")"
      ],
      "metadata": {
        "colab": {
          "base_uri": "https://localhost:8080/"
        },
        "id": "zETq1FeZaq2f",
        "outputId": "92339b0e-9c9f-4900-8acc-8afb87a7f6e4"
      },
      "execution_count": null,
      "outputs": [
        {
          "name": "stdout",
          "output_type": "stream",
          "text": [
            "Enter the content title: Looking for Dividend Stocks to Buy in February? Consider These 3 Dow Jones Components.\n",
            "Enter the content summary: ThThe Dow JonThe Dow Jones Industrial Average (DJINDICES: ^DJI) is chock-full of industry-leading dividend-paying companies -- making it a great place to look for stocks to boost your passive income stream.  In addition to paying dividends, some Dow stocks -- like 3M (NYSE: MMM), Honeywell International (NASDAQ: HON), and Cisco Systems (NASDAQ: CSCO) -- are also a good value relative to their earnings.  Three Motley Fool contributors were asked to offer up reasons why all three of these Dow stocks could be worth buying in February.es Industrial Average (DJINDICES: ^DJI) is chock-full of industry-leading dividend-paying companies -- making it a great place to look for stocks to boost your passive income stream.  In addition to paying dividends, some Dow stocks -- like 3M (NYSE: MMM), Honeywell International (NASDAQ: HON), and Cisco Systems (NASDAQ: CSCO) -- are also a good value relative to their earnings.  Three Motley Fool contributors were asked to offer up reasons why all three of these Dow stocks could be worth buying in February.e Dow Jones Industrial Average (DJINDICES: ^DJI) is chock-full of industry-leading dividend-paying companies -- making it a great place to look for stocks to boost your passive income stream.  In addition to paying dividends, some Dow stocks -- like 3M (NYSE: MMM), Honeywell International (NASDAQ: HON), and Cisco Systems (NASDAQ: CSCO) -- are also a good value relative to their earnings.  Three Motley Fool contributors were asked to offer up reasons why all three of these Dow stocks could be worth bThe Dow Jones Industrial Average (DJINDICES: ^DJI) is chock-full of industry-leading dividend-paying companies -- making it a great place to look for stocks to boost your passive income stream.  In addition to paying dividends, some Dow stocks -- like 3M (NYSE: MMM), Honeywell International (NASDAQ: HON), and Cisco Systems (NASDAQ: CSCO) -- are also a good value relative to their earnings.  Three Motley Fool contributors were asked to offer up reasons why all three of these Dow stocks could be worth buying in February.uying in February.\n"
          ]
        }
      ]
    },
    {
      "cell_type": "code",
      "source": [
        "\n",
        "artical = content_title + ' ' + content_summary\n",
        "seq_test = tk.texts_to_sequences([artical])\n",
        "seq_test_matrix_ = sequence.pad_sequences(seq_test,maxlen = max_len)"
      ],
      "metadata": {
        "id": "CkZspyk-a_bZ"
      },
      "execution_count": null,
      "outputs": []
    },
    {
      "cell_type": "code",
      "source": [
        "print(\"Title : \",content_title)\n",
        "print(\"Summary :\",content_summary)\n",
        "if(model.predict(seq_test_matrix_.reshape(1,-1)) > 0.5):\n",
        "  print('Bullish')\n",
        "else:\n",
        "  print('Bearish')"
      ],
      "metadata": {
        "colab": {
          "base_uri": "https://localhost:8080/"
        },
        "id": "xCKrtKP4bEEN",
        "outputId": "ef4412f7-b4d2-4f47-e69b-bc5cadea8e2c"
      },
      "execution_count": null,
      "outputs": [
        {
          "output_type": "stream",
          "name": "stdout",
          "text": [
            "Title :  Looking for Dividend Stocks to Buy in February? Consider These 3 Dow Jones Components.\n",
            "Summary : ThThe Dow JonThe Dow Jones Industrial Average (DJINDICES: ^DJI) is chock-full of industry-leading dividend-paying companies -- making it a great place to look for stocks to boost your passive income stream.  In addition to paying dividends, some Dow stocks -- like 3M (NYSE: MMM), Honeywell International (NASDAQ: HON), and Cisco Systems (NASDAQ: CSCO) -- are also a good value relative to their earnings.  Three Motley Fool contributors were asked to offer up reasons why all three of these Dow stocks could be worth buying in February.es Industrial Average (DJINDICES: ^DJI) is chock-full of industry-leading dividend-paying companies -- making it a great place to look for stocks to boost your passive income stream.  In addition to paying dividends, some Dow stocks -- like 3M (NYSE: MMM), Honeywell International (NASDAQ: HON), and Cisco Systems (NASDAQ: CSCO) -- are also a good value relative to their earnings.  Three Motley Fool contributors were asked to offer up reasons why all three of these Dow stocks could be worth buying in February.e Dow Jones Industrial Average (DJINDICES: ^DJI) is chock-full of industry-leading dividend-paying companies -- making it a great place to look for stocks to boost your passive income stream.  In addition to paying dividends, some Dow stocks -- like 3M (NYSE: MMM), Honeywell International (NASDAQ: HON), and Cisco Systems (NASDAQ: CSCO) -- are also a good value relative to their earnings.  Three Motley Fool contributors were asked to offer up reasons why all three of these Dow stocks could be worth bThe Dow Jones Industrial Average (DJINDICES: ^DJI) is chock-full of industry-leading dividend-paying companies -- making it a great place to look for stocks to boost your passive income stream.  In addition to paying dividends, some Dow stocks -- like 3M (NYSE: MMM), Honeywell International (NASDAQ: HON), and Cisco Systems (NASDAQ: CSCO) -- are also a good value relative to their earnings.  Three Motley Fool contributors were asked to offer up reasons why all three of these Dow stocks could be worth buying in February.uying in February.\n",
            "\u001b[1m1/1\u001b[0m \u001b[32m━━━━━━━━━━━━━━━━━━━━\u001b[0m\u001b[37m\u001b[0m \u001b[1m0s\u001b[0m 167ms/step\n",
            "Bullish\n"
          ]
        }
      ]
    },
    {
      "cell_type": "code",
      "source": [],
      "metadata": {
        "id": "6IKeiOryFJ9B"
      },
      "execution_count": null,
      "outputs": []
    }
  ]
}